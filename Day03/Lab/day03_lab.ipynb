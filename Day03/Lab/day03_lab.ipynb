{
 "cells": [
  {
   "cell_type": "markdown",
   "metadata": {},
   "source": [
    "1. Make all characters capitalized. \n",
    "    - check out the .upper()\n",
    "    - handle the exception when intergers are given instead of string"
   ]
  },
  {
   "cell_type": "code",
   "execution_count": 7,
   "metadata": {},
   "outputs": [
    {
     "data": {
      "text/plain": [
       "'123'"
      ]
     },
     "execution_count": 7,
     "metadata": {},
     "output_type": "execute_result"
    }
   ],
   "source": [
    "def shout(txt):\n",
    "    # YOUR CODE HERE\n",
    "    if isinstance(txt, str):\n",
    "        return txt.upper()\n",
    "    else:\n",
    "        False\n",
    "\n",
    "shout('Masanori')\n",
    "shout('123')"
   ]
  },
  {
   "cell_type": "markdown",
   "metadata": {},
   "source": [
    "2. Reverse all characters in a string\n",
    "    - handle the exception when integers are given \n",
    "    - use a different method to handle this from 1."
   ]
  },
  {
   "cell_type": "code",
   "execution_count": 10,
   "metadata": {},
   "outputs": [
    {
     "data": {
      "text/plain": [
       "'4321'"
      ]
     },
     "execution_count": 10,
     "metadata": {},
     "output_type": "execute_result"
    }
   ],
   "source": [
    "def reverse(txt):\n",
    "    # YOUR CODE HERE\n",
    "    if isinstance(txt, str):\n",
    "        return ''.join(reversed(txt))\n",
    "    else:\n",
    "        False\n",
    "\n",
    "reverse('masanori')\n",
    "reverse('1234')"
   ]
  },
  {
   "cell_type": "markdown",
   "metadata": {},
   "source": [
    "3. Reverse the word ordering in a string\n",
    "    - assume words are separated by space\n",
    "    - think of one error that could occur and handle it accordingly"
   ]
  },
  {
   "cell_type": "code",
   "execution_count": null,
   "metadata": {},
   "outputs": [],
   "source": [
    "def reversewords(txt):\n",
    "    # YOUR CODE HERE"
   ]
  },
  {
   "cell_type": "markdown",
   "metadata": {},
   "source": [
    "4. Reverse letters in each word in the string\n",
    "    - The word ordering is preserved\n",
    "    - Only the letters are reversed "
   ]
  },
  {
   "cell_type": "code",
   "execution_count": 14,
   "metadata": {},
   "outputs": [
    {
     "data": {
      "text/plain": [
       "'34aa$ 12'"
      ]
     },
     "execution_count": 14,
     "metadata": {},
     "output_type": "execute_result"
    }
   ],
   "source": [
    "def reversewordletters(txt):\n",
    "    # YOUR CODE HERE\n",
    "    if isinstance(txt, str):\n",
    "        words = txt.split()\n",
    "        reversed_text = ' '.join(reversed(words))\n",
    "        return reversed_text\n",
    "    else:\n",
    "        raise ValueError(\"Input is not a string.\")\n",
    "    \n",
    "reversewordletters('Masa  nori')\n",
    "reversewordletters('12  34aa$')"
   ]
  },
  {
   "cell_type": "markdown",
   "metadata": {},
   "source": [
    "5. (Optional) Change text to piglatin... Google it! \n",
    "    - Handle errors accordingly"
   ]
  },
  {
   "cell_type": "code",
   "execution_count": 15,
   "metadata": {},
   "outputs": [
    {
     "data": {
      "text/plain": [
       "'asanoriMay'"
      ]
     },
     "execution_count": 15,
     "metadata": {},
     "output_type": "execute_result"
    }
   ],
   "source": [
    "def piglatin(txt):\n",
    "    # YOUR CODE HERE\n",
    "    if isinstance(txt, str):\n",
    "        words = txt.split()\n",
    "        pig_latin_words = []\n",
    "        for word in words:\n",
    "            if word.isalpha():\n",
    "                first_letter = word[0]\n",
    "                rest_of_word = word[1:]\n",
    "                pig_latin_word = rest_of_word + first_letter + \"ay\"\n",
    "                pig_latin_words.append(pig_latin_word)\n",
    "            else:\n",
    "                raise ValueError(\"Input contains non-alphabet characters.\")\n",
    "            pig_latin_text = ' '.join(pig_latin_words)\n",
    "            return pig_latin_text\n",
    "    else:\n",
    "        raise ValueError(\"Input must be a string.\")\n",
    "\n",
    "piglatin('Masanori')"
   ]
  },
  {
   "cell_type": "code",
   "execution_count": null,
   "metadata": {},
   "outputs": [],
   "source": []
  }
 ],
 "metadata": {
  "kernelspec": {
   "display_name": "base",
   "language": "python",
   "name": "python3"
  },
  "language_info": {
   "codemirror_mode": {
    "name": "ipython",
    "version": 3
   },
   "file_extension": ".py",
   "mimetype": "text/x-python",
   "name": "python",
   "nbconvert_exporter": "python",
   "pygments_lexer": "ipython3",
   "version": "3.9.12"
  },
  "orig_nbformat": 4
 },
 "nbformat": 4,
 "nbformat_minor": 2
}
