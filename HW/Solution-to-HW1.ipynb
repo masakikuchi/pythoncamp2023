{
 "cells": [
  {
   "cell_type": "markdown",
   "metadata": {},
   "source": [
    "# Solution to HW 1\n",
    "\n",
    "Masanori Kikuchi"
   ]
  },
  {
   "cell_type": "code",
   "execution_count": 18,
   "metadata": {},
   "outputs": [],
   "source": [
    "import random\n",
    "\n",
    "class Portfolio:\n",
    "    def __init__(self):\n",
    "        self.cash = Cash(0)\n",
    "        self.stocks = {}\n",
    "        self.mutual_funds = {}\n",
    "        self.transactions = []\n",
    "\n",
    "    def __str__(self):\n",
    "        return f\"cash: ${self.cash.balance:.2f}\\n\" \\\n",
    "               f\"stock: {', '.join([f'{quantity} {stock.symbol}' for stock, quantity in self.stocks.items()])}\\n\" \\\n",
    "               f\"mutual funds: {', '.join([f'{quantity:.2f} {mf.symbol}' for mf, quantity in self.mutual_funds.items()])}\"\n",
    "\n",
    "\n",
    "    def addCash(self, amount):\n",
    "        self.cash.deposit(amount)\n",
    "        self.transactions.append(f\"Adds ${amount:.2f} cash to the portfolio\")\n",
    "\n",
    "    def buyStock(self, quantity, stock):\n",
    "        cost = stock.price * quantity\n",
    "        if self.cash.withdraw(cost):\n",
    "            if stock in self.stocks:\n",
    "                self.stocks[stock] += quantity\n",
    "            else:\n",
    "                self.stocks[stock] = quantity\n",
    "            self.transactions.append(f\"Buys {quantity} shares of {stock.symbol}\")\n",
    "\n",
    "    def sellStock(self, symbol, quantity):\n",
    "        for stock in self.stocks.keys():\n",
    "            if stock.symbol == symbol:\n",
    "                if self.stocks[stock] >= quantity:\n",
    "                    sale_price = stock.calculate_sale_price()\n",
    "                    self.stocks[stock] -= quantity\n",
    "                    self.cash.deposit(sale_price)\n",
    "                    self.transactions.append(f\"Sells {quantity} shares of {stock.symbol}\")\n",
    "                    break\n",
    "\n",
    "    def buyMutualFund(self, quantity, MF):\n",
    "        cost = quantity * MF.price\n",
    "        if self.cash.withdraw(cost):\n",
    "            if MF in self.mutual_funds:\n",
    "                self.mutual_funds[MF] += quantity\n",
    "            else:\n",
    "                self.mutual_funds[MF] = quantity\n",
    "            self.transactions.append(f\"Buys {quantity} shares of {MF.symbol}\")\n",
    "\n",
    "    def sellMutualFund(self, symbol, quantity):\n",
    "        for MF in self.mutual_funds.keys():\n",
    "            if MF.symbol == symbol:\n",
    "                if self.mutual_funds[MF] >= quantity:\n",
    "                    sale_price = MF.calculate_sale_price()\n",
    "                    self.mutual_funds[MF] -= quantity\n",
    "                    self.cash.deposit(sale_price)\n",
    "                    self.transactions.append(f\"Sells {quantity} shares of {MF.symbol}\")\n",
    "                    break\n",
    "\n",
    "    def withdrawCash(self, amount):\n",
    "        self.cash.withdraw(amount)\n",
    "        self.transactions.append(f\"Removes ${amount:.2f}\")\n",
    "\n",
    "    def history(self):\n",
    "        for transaction in self.transactions:\n",
    "            print(transaction)\n",
    "\n",
    "\n",
    "class Cash:\n",
    "    def __init__(self, initial_balance):\n",
    "        self.balance = initial_balance\n",
    "\n",
    "\n",
    "    def deposit(self, amount):\n",
    "        self.balance += amount\n",
    "\n",
    "    def withdraw(self, amount):\n",
    "        if self.balance >= amount:\n",
    "            self.balance -= amount\n",
    "            return True\n",
    "        else:\n",
    "            print(\"Insufficient funding\")\n",
    "            return False\n",
    "\n",
    "\n",
    "class Stock:\n",
    "    def __init__(self, price, symbol):\n",
    "        self.price = price\n",
    "        self.symbol = symbol\n",
    "\n",
    "    def calculate_sale_price(self):\n",
    "        return self.price * random.uniform(0.5, 1.5)\n",
    "\n",
    "\n",
    "\n",
    "class MutualFund:\n",
    "    def __init__(self, symbol):\n",
    "        self.price = 1\n",
    "        self.symbol = symbol\n",
    "\n",
    "    def calculate_sale_price(self):\n",
    "        return self.price * random.uniform(0.9, 1.2)\n"
   ]
  },
  {
   "cell_type": "code",
   "execution_count": 19,
   "metadata": {},
   "outputs": [
    {
     "name": "stdout",
     "output_type": "stream",
     "text": [
      "cash: $188.20\n",
      "stock: 5 HFH\n",
      "mutual funds: 10.30 BRT, 2.00 GHT\n"
     ]
    }
   ],
   "source": [
    "# Example usage\n",
    "portfolio = Portfolio()\n",
    "portfolio.addCash(300.50)\n",
    "s = Stock(20, \"HFH\")\n",
    "portfolio.buyStock(5, s)\n",
    "mf1 = MutualFund(\"BRT\")\n",
    "mf2 = MutualFund(\"GHT\")\n",
    "portfolio.buyMutualFund(10.3, mf1)\n",
    "portfolio.buyMutualFund(2, mf2)\n",
    "print(portfolio)"
   ]
  },
  {
   "cell_type": "code",
   "execution_count": 20,
   "metadata": {},
   "outputs": [
    {
     "name": "stdout",
     "output_type": "stream",
     "text": [
      "Adds $300.50 cash to the portfolio\n",
      "Buys 5 shares of HFH\n",
      "Buys 10.3 shares of BRT\n",
      "Buys 2 shares of GHT\n",
      "Sells 3 shares of BRT\n",
      "Sells 1 shares of HFH\n",
      "Removes $50.00\n"
     ]
    }
   ],
   "source": [
    "portfolio.sellMutualFund(\"BRT\", 3)\n",
    "portfolio.sellStock(\"HFH\", 1)\n",
    "portfolio.withdrawCash(50)\n",
    "portfolio.history()"
   ]
  }
 ],
 "metadata": {
  "kernelspec": {
   "display_name": "base",
   "language": "python",
   "name": "python3"
  },
  "language_info": {
   "codemirror_mode": {
    "name": "ipython",
    "version": 3
   },
   "file_extension": ".py",
   "mimetype": "text/x-python",
   "name": "python",
   "nbconvert_exporter": "python",
   "pygments_lexer": "ipython3",
   "version": "3.9.12"
  },
  "orig_nbformat": 4
 },
 "nbformat": 4,
 "nbformat_minor": 2
}
