{
 "cells": [
  {
   "cell_type": "markdown",
   "metadata": {},
   "source": [
    "#### Day 1: Data Structures\n",
    "\n",
    "Instructions: \n",
    "\n",
    "1. Write a `for` loop, `white` loop, or a `function` (or all three!) to create a list of the first 10 numbers of the fibonacci sequence.\n",
    "    - Fibonacci sequence\n",
    "    - X_[i] = X_[i-1] + X_[i-2], where X_1 = 1, X_2 = 1\n",
    "    - 1,1,2,3,5,8,...\n",
    "2. Can you now do it for the first 30 numbers? \n",
    "3. Complete the functions with using your solutions \n",
    "\n",
    "\n",
    "\n"
   ]
  },
  {
   "cell_type": "code",
   "execution_count": 2,
   "metadata": {},
   "outputs": [
    {
     "name": "stdout",
     "output_type": "stream",
     "text": [
      "[1, 1, 2, 3, 5, 8, 13, 21, 34, 55]\n"
     ]
    }
   ],
   "source": [
    "fib = []\n",
    "for i in range(0,10):\n",
    "    if len(fib) < 2:\n",
    "        fib.append(1)\n",
    "    else:\n",
    "        fib.append(fib[i-1] + fib[i-2])\n",
    "\n",
    "print(fib)"
   ]
  },
  {
   "cell_type": "code",
   "execution_count": 7,
   "metadata": {},
   "outputs": [
    {
     "data": {
      "text/plain": [
       "False"
      ]
     },
     "execution_count": 7,
     "metadata": {},
     "output_type": "execute_result"
    }
   ],
   "source": [
    "# return true if there is no e in 'word', else false\n",
    "def has_no_e(word):\n",
    "    # YOUR CODE HERE\n",
    "    if 'e' not in word:\n",
    "        return True\n",
    "    else:\n",
    "        return False\n",
    "\n",
    "has_no_e(word = 'Masanorie')"
   ]
  },
  {
   "cell_type": "code",
   "execution_count": 8,
   "metadata": {},
   "outputs": [
    {
     "name": "stdout",
     "output_type": "stream",
     "text": [
      "TRUE\n"
     ]
    }
   ],
   "source": [
    "# return true if there is e in 'word', else false\n",
    "def has_e(word):\n",
    "    # YOUR CODE HERE\n",
    "    if 'e' in word:\n",
    "        print(\"TRUE\")\n",
    "    else:\n",
    "        print(\"FALSE\")\n",
    "\n",
    "has_e(word = 'Masanorie')"
   ]
  },
  {
   "cell_type": "code",
   "execution_count": 18,
   "metadata": {},
   "outputs": [
    {
     "data": {
      "text/plain": [
       "True"
      ]
     },
     "execution_count": 18,
     "metadata": {},
     "output_type": "execute_result"
    }
   ],
   "source": [
    "# return true if word1 contains only letters from word2, else false\n",
    "def uses_only(word1, word2):\n",
    "    # YOUR CODE HERE\n",
    "    letters1 = [i for i in word1]\n",
    "    letters2 = [i for i in word2]\n",
    "    if all([i in letters2 for i in letters1]):\n",
    "        return True\n",
    "    else: \n",
    "        return False\n",
    "\n",
    "\n",
    "uses_only(\"masanoRi\", \"samaRino\")"
   ]
  },
  {
   "cell_type": "code",
   "execution_count": 20,
   "metadata": {},
   "outputs": [
    {
     "data": {
      "text/plain": [
       "False"
      ]
     },
     "execution_count": 20,
     "metadata": {},
     "output_type": "execute_result"
    }
   ],
   "source": [
    "# return true if word1 uses all the letters in word2, else false\n",
    "def uses_all(word1, word2):\n",
    "    # YOUR CODE HERE\n",
    "    letters1 = [i for i in word1]\n",
    "    letters2 = [i for i in word2]\n",
    "    for i in letters2: \n",
    "        if i not in letters1:\n",
    "            return False\n",
    "    return True\n",
    "\n",
    "uses_only(\"masanoRi\", \"samaRino\")"
   ]
  },
  {
   "cell_type": "code",
   "execution_count": 25,
   "metadata": {},
   "outputs": [
    {
     "data": {
      "text/plain": [
       "True"
      ]
     },
     "execution_count": 25,
     "metadata": {},
     "output_type": "execute_result"
    }
   ],
   "source": [
    "# return true or false \n",
    "# Is the word in alphabetical order? return True if yes, False if not. \n",
    "# Hint: check the methods for lists\n",
    "def is_abecedarian(word):\n",
    "    # YOUR CODE HERE\n",
    "    letters = [i for i in word]\n",
    "    return sorted(letters) == letters\n",
    "\n",
    "\n",
    "is_abecedarian('abcefg')\n",
    "is_abecedarian('masanori')\n",
    "is_abecedarian('aaimnors')\n"
   ]
  }
 ],
 "metadata": {
  "kernelspec": {
   "display_name": "base",
   "language": "python",
   "name": "python3"
  },
  "language_info": {
   "codemirror_mode": {
    "name": "ipython",
    "version": 3
   },
   "file_extension": ".py",
   "mimetype": "text/x-python",
   "name": "python",
   "nbconvert_exporter": "python",
   "pygments_lexer": "ipython3",
   "version": "3.9.12"
  },
  "orig_nbformat": 4
 },
 "nbformat": 4,
 "nbformat_minor": 2
}
